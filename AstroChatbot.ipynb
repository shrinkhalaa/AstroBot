{
  "nbformat": 4,
  "nbformat_minor": 0,
  "metadata": {
    "colab": {
      "provenance": []
    },
    "kernelspec": {
      "name": "python3",
      "display_name": "Python 3"
    },
    "language_info": {
      "name": "python"
    }
  },
  "cells": [
    {
      "cell_type": "code",
      "execution_count": 2,
      "metadata": {
        "colab": {
          "base_uri": "https://localhost:8080/"
        },
        "collapsed": true,
        "id": "rGBWMatkxtPd",
        "outputId": "f4c180b7-c802-4159-8108-c120ece6db1f"
      },
      "outputs": [
        {
          "output_type": "stream",
          "name": "stdout",
          "text": [
            "Collecting newspaper3k\n",
            "  Downloading newspaper3k-0.2.8-py3-none-any.whl (211 kB)\n",
            "\u001b[2K     \u001b[90m━━━━━━━━━━━━━━━━━━━━━━━━━━━━━━━━━━━━━━━━\u001b[0m \u001b[32m211.1/211.1 kB\u001b[0m \u001b[31m3.9 MB/s\u001b[0m eta \u001b[36m0:00:00\u001b[0m\n",
            "\u001b[?25hRequirement already satisfied: beautifulsoup4>=4.4.1 in /usr/local/lib/python3.10/dist-packages (from newspaper3k) (4.12.3)\n",
            "Requirement already satisfied: Pillow>=3.3.0 in /usr/local/lib/python3.10/dist-packages (from newspaper3k) (9.4.0)\n",
            "Requirement already satisfied: PyYAML>=3.11 in /usr/local/lib/python3.10/dist-packages (from newspaper3k) (6.0.1)\n",
            "Collecting cssselect>=0.9.2 (from newspaper3k)\n",
            "  Downloading cssselect-1.2.0-py2.py3-none-any.whl (18 kB)\n",
            "Requirement already satisfied: lxml>=3.6.0 in /usr/local/lib/python3.10/dist-packages (from newspaper3k) (4.9.4)\n",
            "Requirement already satisfied: nltk>=3.2.1 in /usr/local/lib/python3.10/dist-packages (from newspaper3k) (3.8.1)\n",
            "Requirement already satisfied: requests>=2.10.0 in /usr/local/lib/python3.10/dist-packages (from newspaper3k) (2.31.0)\n",
            "Collecting feedparser>=5.2.1 (from newspaper3k)\n",
            "  Downloading feedparser-6.0.11-py3-none-any.whl (81 kB)\n",
            "\u001b[2K     \u001b[90m━━━━━━━━━━━━━━━━━━━━━━━━━━━━━━━━━━━━━━━━\u001b[0m \u001b[32m81.3/81.3 kB\u001b[0m \u001b[31m8.9 MB/s\u001b[0m eta \u001b[36m0:00:00\u001b[0m\n",
            "\u001b[?25hCollecting tldextract>=2.0.1 (from newspaper3k)\n",
            "  Downloading tldextract-5.1.2-py3-none-any.whl (97 kB)\n",
            "\u001b[2K     \u001b[90m━━━━━━━━━━━━━━━━━━━━━━━━━━━━━━━━━━━━━━━━\u001b[0m \u001b[32m97.6/97.6 kB\u001b[0m \u001b[31m11.8 MB/s\u001b[0m eta \u001b[36m0:00:00\u001b[0m\n",
            "\u001b[?25hCollecting feedfinder2>=0.0.4 (from newspaper3k)\n",
            "  Downloading feedfinder2-0.0.4.tar.gz (3.3 kB)\n",
            "  Preparing metadata (setup.py) ... \u001b[?25l\u001b[?25hdone\n",
            "Collecting jieba3k>=0.35.1 (from newspaper3k)\n",
            "  Downloading jieba3k-0.35.1.zip (7.4 MB)\n",
            "\u001b[2K     \u001b[90m━━━━━━━━━━━━━━━━━━━━━━━━━━━━━━━━━━━━━━━━\u001b[0m \u001b[32m7.4/7.4 MB\u001b[0m \u001b[31m64.2 MB/s\u001b[0m eta \u001b[36m0:00:00\u001b[0m\n",
            "\u001b[?25h  Preparing metadata (setup.py) ... \u001b[?25l\u001b[?25hdone\n",
            "Requirement already satisfied: python-dateutil>=2.5.3 in /usr/local/lib/python3.10/dist-packages (from newspaper3k) (2.8.2)\n",
            "Collecting tinysegmenter==0.3 (from newspaper3k)\n",
            "  Downloading tinysegmenter-0.3.tar.gz (16 kB)\n",
            "  Preparing metadata (setup.py) ... \u001b[?25l\u001b[?25hdone\n",
            "Requirement already satisfied: soupsieve>1.2 in /usr/local/lib/python3.10/dist-packages (from beautifulsoup4>=4.4.1->newspaper3k) (2.5)\n",
            "Requirement already satisfied: six in /usr/local/lib/python3.10/dist-packages (from feedfinder2>=0.0.4->newspaper3k) (1.16.0)\n",
            "Collecting sgmllib3k (from feedparser>=5.2.1->newspaper3k)\n",
            "  Downloading sgmllib3k-1.0.0.tar.gz (5.8 kB)\n",
            "  Preparing metadata (setup.py) ... \u001b[?25l\u001b[?25hdone\n",
            "Requirement already satisfied: click in /usr/local/lib/python3.10/dist-packages (from nltk>=3.2.1->newspaper3k) (8.1.7)\n",
            "Requirement already satisfied: joblib in /usr/local/lib/python3.10/dist-packages (from nltk>=3.2.1->newspaper3k) (1.4.2)\n",
            "Requirement already satisfied: regex>=2021.8.3 in /usr/local/lib/python3.10/dist-packages (from nltk>=3.2.1->newspaper3k) (2023.12.25)\n",
            "Requirement already satisfied: tqdm in /usr/local/lib/python3.10/dist-packages (from nltk>=3.2.1->newspaper3k) (4.66.4)\n",
            "Requirement already satisfied: charset-normalizer<4,>=2 in /usr/local/lib/python3.10/dist-packages (from requests>=2.10.0->newspaper3k) (3.3.2)\n",
            "Requirement already satisfied: idna<4,>=2.5 in /usr/local/lib/python3.10/dist-packages (from requests>=2.10.0->newspaper3k) (3.7)\n",
            "Requirement already satisfied: urllib3<3,>=1.21.1 in /usr/local/lib/python3.10/dist-packages (from requests>=2.10.0->newspaper3k) (2.0.7)\n",
            "Requirement already satisfied: certifi>=2017.4.17 in /usr/local/lib/python3.10/dist-packages (from requests>=2.10.0->newspaper3k) (2024.2.2)\n",
            "Collecting requests-file>=1.4 (from tldextract>=2.0.1->newspaper3k)\n",
            "  Downloading requests_file-2.1.0-py2.py3-none-any.whl (4.2 kB)\n",
            "Requirement already satisfied: filelock>=3.0.8 in /usr/local/lib/python3.10/dist-packages (from tldextract>=2.0.1->newspaper3k) (3.14.0)\n",
            "Building wheels for collected packages: tinysegmenter, feedfinder2, jieba3k, sgmllib3k\n",
            "  Building wheel for tinysegmenter (setup.py) ... \u001b[?25l\u001b[?25hdone\n",
            "  Created wheel for tinysegmenter: filename=tinysegmenter-0.3-py3-none-any.whl size=13538 sha256=d25c6a31ad8adfcc4958b29750fdff56aef1bafcad52d74da5de0f04265c9b5a\n",
            "  Stored in directory: /root/.cache/pip/wheels/c8/d6/6c/384f58df48c00b9a31d638005143b5b3ac62c3d25fb1447f23\n",
            "  Building wheel for feedfinder2 (setup.py) ... \u001b[?25l\u001b[?25hdone\n",
            "  Created wheel for feedfinder2: filename=feedfinder2-0.0.4-py3-none-any.whl size=3340 sha256=0841d844a980ec8325a8abf97457f8e3e258d46196f77b81e8995eba031facf0\n",
            "  Stored in directory: /root/.cache/pip/wheels/97/02/e7/a1ff1760e12bdbaab0ac824fae5c1bc933e41c4ccd6a8f8edb\n",
            "  Building wheel for jieba3k (setup.py) ... \u001b[?25l\u001b[?25hdone\n",
            "  Created wheel for jieba3k: filename=jieba3k-0.35.1-py3-none-any.whl size=7398382 sha256=3606fd87fd18948f597139a1f65d75ca785c7c54029420bd277e8f8db58eba48\n",
            "  Stored in directory: /root/.cache/pip/wheels/7a/c4/0c/12a9a314ecac499456c4c3b2fcc2f635a3b45a39dfbd240299\n",
            "  Building wheel for sgmllib3k (setup.py) ... \u001b[?25l\u001b[?25hdone\n",
            "  Created wheel for sgmllib3k: filename=sgmllib3k-1.0.0-py3-none-any.whl size=6049 sha256=53edbe95d3f864e53027a213cdcfb0829695c667b06181ecec26e82b37581dcc\n",
            "  Stored in directory: /root/.cache/pip/wheels/f0/69/93/a47e9d621be168e9e33c7ce60524393c0b92ae83cf6c6e89c5\n",
            "Successfully built tinysegmenter feedfinder2 jieba3k sgmllib3k\n",
            "Installing collected packages: tinysegmenter, sgmllib3k, jieba3k, feedparser, cssselect, requests-file, feedfinder2, tldextract, newspaper3k\n",
            "Successfully installed cssselect-1.2.0 feedfinder2-0.0.4 feedparser-6.0.11 jieba3k-0.35.1 newspaper3k-0.2.8 requests-file-2.1.0 sgmllib3k-1.0.0 tinysegmenter-0.3 tldextract-5.1.2\n"
          ]
        }
      ],
      "source": [
        "pip install newspaper3k"
      ]
    },
    {
      "cell_type": "code",
      "source": [
        "from newspaper import Article\n",
        "import random\n",
        "import string\n",
        "import numpy as np\n",
        "import warnings\n",
        "import nltk\n",
        "from sklearn.feature_extraction.text import TfidfVectorizer\n",
        "from sklearn.metrics.pairwise import cosine_similarity"
      ],
      "metadata": {
        "id": "rlyxfMnqx_gU"
      },
      "execution_count": 3,
      "outputs": []
    },
    {
      "cell_type": "code",
      "source": [
        "warnings.filterwarnings('ignore')"
      ],
      "metadata": {
        "id": "hE9rYi5PyDcH"
      },
      "execution_count": 4,
      "outputs": []
    },
    {
      "cell_type": "code",
      "source": [
        "nltk.download('punkt',quiet=True)\n",
        "nltk.download('wordnet',quiet=True)"
      ],
      "metadata": {
        "colab": {
          "base_uri": "https://localhost:8080/"
        },
        "id": "9SzsBjENyIjc",
        "outputId": "f24a73ab-ceaf-4134-e9d9-6d72281b690a"
      },
      "execution_count": 5,
      "outputs": [
        {
          "output_type": "execute_result",
          "data": {
            "text/plain": [
              "True"
            ]
          },
          "metadata": {},
          "execution_count": 5
        }
      ]
    },
    {
      "cell_type": "code",
      "source": [
        "article= Article('https://simple.wikipedia.org/wiki/Astronomy')\n",
        "article.download()\n",
        "article.parse()\n",
        "article.nlp()\n",
        "corpus=article.text\n",
        "#print\n",
        "print(corpus)"
      ],
      "metadata": {
        "colab": {
          "base_uri": "https://localhost:8080/"
        },
        "collapsed": true,
        "id": "RNr2EY6UyWVg",
        "outputId": "7610c4b0-0d08-4820-ea6e-2305e8af45c8"
      },
      "execution_count": 7,
      "outputs": [
        {
          "output_type": "stream",
          "name": "stdout",
          "text": [
            "Astronomy is the scientific study of celestial bodies. Stars, galaxies, planets, moons, asteroids, comets and nebulae are studied, as are supernovae explosions, gamma ray bursts, and cosmic microwave background radiation. Astronomy includes the development, physics, chemistry, meteorology and movement of celestial bodies. The big questions are the structure and development of the universe.\n",
            "\n",
            "Astronomy is one of the oldest sciences. The patterns in the night sky were called constellations by the Arabs. They used the positions of the stars to navigate, and to find when was the best time to plant crops.\n",
            "\n",
            "Astrophysics is an important part of astronomy. A related subject, cosmology, is concerned with studying the universe as a whole,[1] and the way the universe changed over time. Astronomy is not the same as astrology, a belief that the motion of the stars and the planets may affect human lives.\n",
            "\n",
            "There are two main types of astronomy, observational and theoretical astronomy. Observational astronomy uses telescopes and cameras to observe or look at stars, galaxies and other astronomical objects. Theoretical astronomy explains what we see. It predicts what might happen. Observations show whether the predictions work. The main work of astronomy is to explain puzzling features of the universe. For many years the most important issue was the motions of planets. Many other topics are now studied.\n",
            "\n",
            "Day-time astronomy is possible. First, there's the Sun, but observing directly is dangerous. It is too bright, and can burn your eyes and can cause permanent blindness. To look at the Sun you need proper shields and equipment. Some other individual bright stars and planets can be seen during daylight hours through a telescope or a powerful pair of binoculars.\n",
            "\n",
            "History of astronomy [ change | change source ]\n",
            "\n",
            "Ancient history [ change | change source ]\n",
            "\n",
            "Early astronomers used only their eyes to look at the stars. They made maps of the constellations and stars for religious reasons and calendars to work out the time of year. Early civilisations such as the Maya people and the Ancient Egyptians built simple observatories and drew maps of the stars positions. They also began to think about the place of Earth in the universe. For a long time people thought Earth was the center of the universe, and that the planets, the stars and the sun went around it. This is known as geocentrism. Astronomy is from the Greek astron (ἄστρον) meaning \"star\" and nomos (nόμος) meaning \"law\")\n",
            "\n",
            "Ancient Greeks tried to explain the motions of the sun and stars by taking measurements.[2] A mathematician named Eratosthenes was the first who measured the size of the Earth and proved that the Earth is a sphere. A theory by another mathematician named Aristarchus was, that the sun is the center and the Earth is moving around it. This is known as heliocentrism. Only a few people thought it was right. The rest continued to believe in the geocentric model. Most of the names of constellations and stars come from Greeks of that time.[3]\n",
            "\n",
            "Arabic astronomers made many advancements during the Middle Ages including improved star maps and ways to estimate the size of the Earth.[4] They also learned from the ancients by translating Greek books into Arabic.\n",
            "\n",
            "Renaissance to modern era [ change | change source ]\n",
            "\n",
            "Drawings of the Moon by Galileo. His drawings were more detailed than anyone before him because he used a telescope to look at the Moon.\n",
            "\n",
            "During the renaissance a priest named Nicolaus Copernicus thought, from looking at the way the planets moved, that the Earth was not the center of everything. Based on previous works, he said that the Earth was a planet and all the planets moved around the sun. This brought back the old idea of heliocentrism. Galileo Galilei built his own telescopes, and used them to look more closely at the stars and planets for the first time. He agreed with Copernicus. The Catholic Church thought Galileo was wrong. He spent the rest of his life under house arrest.[5] Heliocentric ideas were soon improved by Johannes Kepler and Isaac Newton, who invented the theory of gravity.\n",
            "\n",
            "After Galileo, people made better telescopes and used them to see farther objects such as the planets Uranus and Neptune. They also saw how stars were similar to our Sun, but in a range of colours and sizes. They also saw thousands of other faraway objects such as galaxies and nebulae.\n",
            "\n",
            "Modern era [ change | change source ]\n",
            "\n",
            "The 20th century after 1920 saw important changes in astronomy.\n",
            "\n",
            "In the early 1920s it began to be accepted that the galaxy in which we live, the Milky Way, is not the only galaxy. The existence of other galaxies was settled by Edwin Hubble, who identified the Andromeda nebula as a different galaxy. It was also Hubble who proved that the universe was expanding. There were many other galaxies at large distances and they are receding, moving away from our galaxy. That was completely unexpected.\n",
            "\n",
            "In 1931, Karl Jansky discovered radio emission from outside the Earth when trying to isolate a source of noise in radio communications, marking the birth of radio astronomy and the first attempts at using another part of the electromagnetic spectrum to observe the sky. Those parts of the electromagnetic spectrum that the atmosphere did not block were now opened up to astronomy, allowing more discoveries to be made.\n",
            "\n",
            "The opening of this new window on the Universe saw the discovery of entirely new things, for example pulsars, which sent regular pulses of radio waves out into space. The waves were first thought to be alien in origin because the pulses were so regular that (so it was thought) it implied an artificial source.\n",
            "\n",
            "The period after World War II saw more observatories. Large and accurate telescopes were built and operated at good observing sites, usually by governments. For example, Bernard Lovell began radio astronomy at Jodrell Bank using leftover military radar equipment. By 1957, the site had the largest steerable radio telescope in the world. Similarly, the end of the 1960s saw the start of the building of dedicated observatories at Mauna Kea in Hawaii, a good site for visible and infra-red telescopes thanks to its high altitude and clear skies.\n",
            "\n",
            "The next great revolution in astronomy was thanks to the birth of rocketry. This allowed telescopes to be placed in space on satellites.\n",
            "\n",
            "Space telescopes gave access, for the first time in history, to the entire electromagnetic spectrum including rays that had been blocked by the atmosphere. The X-rays, gamma rays, ultraviolet light and parts of the infra-red spectrum were all opened to astronomy as observing telescopes were launched. As with other parts of the spectrum, new discoveries were made.\n",
            "\n",
            "From 1970s satellites were launched to be replaced with more accurate and better satellites, causing the sky to be mapped in nearly all parts of the electromagnetic spectrum.\n",
            "\n",
            "Discoveries broadly come in two types: bodies and phenomena. Bodies are things in the Universe, whether it is a planet like our Earth or a galaxy like our Milky Way. Phenomena are events and happenings in the Universe.\n",
            "\n",
            "For convenience, this section has been divided by where these astronomical bodies may be found: those found around stars are solar bodies, those inside galaxies are galactic bodies and everything else larger are cosmic bodies.\n",
            "\n",
            "Diffuse Objects:\n",
            "\n",
            "Nebulas\n",
            "\n",
            "Clusters\n",
            "\n",
            "Compact Stars:\n",
            "\n",
            "Burst events are those where there is a sudden change in the heavens that disappears quickly. These are called bursts because they are normally associated with large explosions producing a \"burst\" of energy. They include:\n",
            "\n",
            "Periodic events are those that happen regularly in a repetitive way. The name periodic comes from period, which is the length of time required for a wave to complete one cycle. Periodic phenomena include:\n",
            "\n",
            "Noise phenomena tend to relate to things that happened a long time ago. The signal from these events bounce around the Universe until it seems to come from everywhere and varies little in intensity. In this way, it is \"noise\", the background signal that pervades every instrument used for astronomy. The most common example of noise is static seen on analogue televisions. The principal astronomical example is: cosmic background radiation.\n",
            "\n",
            "Telescopes are the main tool of observing. They take all the light in a big area and put in into a small area. This is like making your eyes very big and powerful. Astronomers use telescopes to look at things that are far away and dim. Telescopes make objects look bigger, closer, brighter.\n",
            "\n",
            "Spectrometers study the different wavelengths of light. This shows what something is made of.\n",
            "\n",
            "Many telescopes are in satellites. They are space observatories. The Earth’s atmosphere blocks some parts of the electromagnetic spectrum, but special telescopes above the atmosphere can detect that radiation.\n",
            "\n",
            "Radio astronomy uses radio telescopes. Aperture synthesis combines smaller telescopes to create a phased array, which works like a telescope as big as the distance between the smaller telescopes.\n",
            "\n",
            "There are way astronomers can get better pictures of the heavens. Light from a distant source reaches a sensor and gets measured, normally by a human eye or a camera. For very dim sources, there may not be enough light particles coming from the source for it to be seen. One technique that astronomers have for making it visible is using integration (which is like longer exposures in photography).\n",
            "\n",
            "Astronomical sources do not move much: only the rotation and movement of the Earth causes them to move across the heavens. As light particles reach the camera over time, they hit the same place making it brighter and more visible than the background, until it can be seen.\n",
            "\n",
            "Telescopes at most observatories (and satellite instruments) can normally track a source as it moves across the heavens, making the star appear still to the telescope and allowing longer exposures. Also, images can be taken on different nights so exposures span hours, days or even months. In the digital era, digitised pictures of the sky can be added together by computer, which overlays the images after correcting for movement.\n",
            "\n",
            "Adaptive optics [ change | change source ]\n",
            "\n",
            "Adaptive optics means changing the shape of the mirror or lens while looking at something, to see it better.\n",
            "\n",
            "Data analysis [ change | change source ]\n",
            "\n",
            "Data analysis is the process of getting more information out of an astronomical observation than by simply looking at it. The observation is first stored as data. This data then has various techniques used to analyse it.\n",
            "\n",
            "Fourier analysis [ change | change source ]\n",
            "\n",
            "Fourier analysis in mathematics can show if an observation (over a length of time) is changing periodically (changes like a wave). If so, it can extract the frequencies and the type of wave pattern, and find many things including new planets.\n",
            "\n",
            "Subfields of astronomy [ change | change source ]\n",
            "\n",
            "Pulsars pulse regularly in radio waves. These turned out to be similar to some (but not all) of a type of bright source in X-rays called a Low-mass X-ray binary. It turned out that all pulsars and some LMXBs are neutron stars and that the differences were due to the environment in which the neutron star was found. Those LMXBs that were not neutron stars turned out to be black holes.\n",
            "\n",
            "This section attempts to provide an overview of the important fields of astronomy.\n",
            "\n",
            "Solar astronomy [ change | change source ]\n",
            "\n",
            "See the main article: Sun\n",
            "\n",
            "Solar astronomy is the study of the Sun. The Sun is the closest star to Earth at around 92 million (92,000,000) miles away.[6] It is the easiest to observe in detail. Observing the Sun can help us understand how other stars work and are formed. Changes in the Sun can affect the weather and climate on Earth. A stream of charged particles called the Solar wind is constantly sent off from the Sun. The Solar wind hitting the Earth's magnetic field causes the northern lights.[7]\n",
            "\n",
            "Stellar Astronomy\n",
            "\n",
            "Stellar Astronomy, sometimes generally stellar astrophysics is the scientific study of stars, their formation, evolution and fate (stellar evolution). In the most basic sense,Stellar Astronomy attempts to answer the questions to the universe's most common phenomena — stars. Heavily relating with Galactic and Planetary Astronomy.\n",
            "\n",
            "Messier 041,a star system in the constellation Canis Major\n",
            "\n",
            "Planetary astronomy [ change | change source ]\n",
            "\n",
            "Planetary astronomy is the study of planets, moons, dwarf planets, comets and asteroids as well as other small objects that orbit stars. The planets of our own Solar System have been studied in depth by many visiting spacecraft such as Cassini-Huygens (Saturn) and the Voyager 1 and 2.\n",
            "\n",
            "Galactic astronomy [ change | change source ]\n",
            "\n",
            "Galactic astronomy is the study of distant galaxies. Studying distant galaxies is a good way of learning about our own galaxy, as the gases and stars in our own galaxy make it difficult to observe. Galactic astronomers try to understand the structure of galaxies and how they are formed by using different types of telescopes and computer simulations.\n",
            "\n",
            "Gravitational wave astronomy [ change | change source ]\n",
            "\n",
            "Gravitational wave astronomy is the study of the Universe in the gravitational wave spectrum. So far, all astronomy that has been done has used the electromagnetic spectrum. Gravitational waves are ripples in spacetime emitted by very dense objects changing shape, which include white dwarves, neutron stars and black holes. Because no one has been able to detect gravitational waves directly, the impact of gravitational wave astronomy has been limited.\n",
            "\n",
            "Unsolved problems [ change | change source ]\n",
            "\n",
            "Great discoveries also produce unsolved problems. This is just a short-list:\n",
            "\n",
            "Dark matter and dark energy: what are they?\n",
            "\n",
            "Ultimate fate of the Universe? What will it be?\n",
            "\n",
            "Why is lithium 4 times less than predicted?\n",
            "\n",
            "Origin of supermassive black holes.\n",
            "\n",
            "The source of ultra-high energy cosmic rays.\n",
            "\n",
            "The existence of life elsewhere.\n",
            "\n",
            "Related pages [ change | change source ]\n"
          ]
        }
      ]
    },
    {
      "cell_type": "code",
      "source": [
        "#tokenization\n",
        "text=corpus\n",
        "sent_tokens=nltk.sent_tokenize(text)\n",
        "print(sent_tokens)"
      ],
      "metadata": {
        "colab": {
          "base_uri": "https://localhost:8080/"
        },
        "collapsed": true,
        "id": "cPXLYhgHzXak",
        "outputId": "8f291160-6af0-43cf-9d28-cd9f4313be19"
      },
      "execution_count": 8,
      "outputs": [
        {
          "output_type": "stream",
          "name": "stdout",
          "text": [
            "['Astronomy is the scientific study of celestial bodies.', 'Stars, galaxies, planets, moons, asteroids, comets and nebulae are studied, as are supernovae explosions, gamma ray bursts, and cosmic microwave background radiation.', 'Astronomy includes the development, physics, chemistry, meteorology and movement of celestial bodies.', 'The big questions are the structure and development of the universe.', 'Astronomy is one of the oldest sciences.', 'The patterns in the night sky were called constellations by the Arabs.', 'They used the positions of the stars to navigate, and to find when was the best time to plant crops.', 'Astrophysics is an important part of astronomy.', 'A related subject, cosmology, is concerned with studying the universe as a whole,[1] and the way the universe changed over time.', 'Astronomy is not the same as astrology, a belief that the motion of the stars and the planets may affect human lives.', 'There are two main types of astronomy, observational and theoretical astronomy.', 'Observational astronomy uses telescopes and cameras to observe or look at stars, galaxies and other astronomical objects.', 'Theoretical astronomy explains what we see.', 'It predicts what might happen.', 'Observations show whether the predictions work.', 'The main work of astronomy is to explain puzzling features of the universe.', 'For many years the most important issue was the motions of planets.', 'Many other topics are now studied.', 'Day-time astronomy is possible.', \"First, there's the Sun, but observing directly is dangerous.\", 'It is too bright, and can burn your eyes and can cause permanent blindness.', 'To look at the Sun you need proper shields and equipment.', 'Some other individual bright stars and planets can be seen during daylight hours through a telescope or a powerful pair of binoculars.', 'History of astronomy [ change | change source ]\\n\\nAncient history [ change | change source ]\\n\\nEarly astronomers used only their eyes to look at the stars.', 'They made maps of the constellations and stars for religious reasons and calendars to work out the time of year.', 'Early civilisations such as the Maya people and the Ancient Egyptians built simple observatories and drew maps of the stars positions.', 'They also began to think about the place of Earth in the universe.', 'For a long time people thought Earth was the center of the universe, and that the planets, the stars and the sun went around it.', 'This is known as geocentrism.', 'Astronomy is from the Greek astron (ἄστρον) meaning \"star\" and nomos (nόμος) meaning \"law\")\\n\\nAncient Greeks tried to explain the motions of the sun and stars by taking measurements.', '[2] A mathematician named Eratosthenes was the first who measured the size of the Earth and proved that the Earth is a sphere.', 'A theory by another mathematician named Aristarchus was, that the sun is the center and the Earth is moving around it.', 'This is known as heliocentrism.', 'Only a few people thought it was right.', 'The rest continued to believe in the geocentric model.', 'Most of the names of constellations and stars come from Greeks of that time.', '[3]\\n\\nArabic astronomers made many advancements during the Middle Ages including improved star maps and ways to estimate the size of the Earth.', '[4] They also learned from the ancients by translating Greek books into Arabic.', 'Renaissance to modern era [ change | change source ]\\n\\nDrawings of the Moon by Galileo.', 'His drawings were more detailed than anyone before him because he used a telescope to look at the Moon.', 'During the renaissance a priest named Nicolaus Copernicus thought, from looking at the way the planets moved, that the Earth was not the center of everything.', 'Based on previous works, he said that the Earth was a planet and all the planets moved around the sun.', 'This brought back the old idea of heliocentrism.', 'Galileo Galilei built his own telescopes, and used them to look more closely at the stars and planets for the first time.', 'He agreed with Copernicus.', 'The Catholic Church thought Galileo was wrong.', 'He spent the rest of his life under house arrest.', '[5] Heliocentric ideas were soon improved by Johannes Kepler and Isaac Newton, who invented the theory of gravity.', 'After Galileo, people made better telescopes and used them to see farther objects such as the planets Uranus and Neptune.', 'They also saw how stars were similar to our Sun, but in a range of colours and sizes.', 'They also saw thousands of other faraway objects such as galaxies and nebulae.', 'Modern era [ change | change source ]\\n\\nThe 20th century after 1920 saw important changes in astronomy.', 'In the early 1920s it began to be accepted that the galaxy in which we live, the Milky Way, is not the only galaxy.', 'The existence of other galaxies was settled by Edwin Hubble, who identified the Andromeda nebula as a different galaxy.', 'It was also Hubble who proved that the universe was expanding.', 'There were many other galaxies at large distances and they are receding, moving away from our galaxy.', 'That was completely unexpected.', 'In 1931, Karl Jansky discovered radio emission from outside the Earth when trying to isolate a source of noise in radio communications, marking the birth of radio astronomy and the first attempts at using another part of the electromagnetic spectrum to observe the sky.', 'Those parts of the electromagnetic spectrum that the atmosphere did not block were now opened up to astronomy, allowing more discoveries to be made.', 'The opening of this new window on the Universe saw the discovery of entirely new things, for example pulsars, which sent regular pulses of radio waves out into space.', 'The waves were first thought to be alien in origin because the pulses were so regular that (so it was thought) it implied an artificial source.', 'The period after World War II saw more observatories.', 'Large and accurate telescopes were built and operated at good observing sites, usually by governments.', 'For example, Bernard Lovell began radio astronomy at Jodrell Bank using leftover military radar equipment.', 'By 1957, the site had the largest steerable radio telescope in the world.', 'Similarly, the end of the 1960s saw the start of the building of dedicated observatories at Mauna Kea in Hawaii, a good site for visible and infra-red telescopes thanks to its high altitude and clear skies.', 'The next great revolution in astronomy was thanks to the birth of rocketry.', 'This allowed telescopes to be placed in space on satellites.', 'Space telescopes gave access, for the first time in history, to the entire electromagnetic spectrum including rays that had been blocked by the atmosphere.', 'The X-rays, gamma rays, ultraviolet light and parts of the infra-red spectrum were all opened to astronomy as observing telescopes were launched.', 'As with other parts of the spectrum, new discoveries were made.', 'From 1970s satellites were launched to be replaced with more accurate and better satellites, causing the sky to be mapped in nearly all parts of the electromagnetic spectrum.', 'Discoveries broadly come in two types: bodies and phenomena.', 'Bodies are things in the Universe, whether it is a planet like our Earth or a galaxy like our Milky Way.', 'Phenomena are events and happenings in the Universe.', 'For convenience, this section has been divided by where these astronomical bodies may be found: those found around stars are solar bodies, those inside galaxies are galactic bodies and everything else larger are cosmic bodies.', 'Diffuse Objects:\\n\\nNebulas\\n\\nClusters\\n\\nCompact Stars:\\n\\nBurst events are those where there is a sudden change in the heavens that disappears quickly.', 'These are called bursts because they are normally associated with large explosions producing a \"burst\" of energy.', 'They include:\\n\\nPeriodic events are those that happen regularly in a repetitive way.', 'The name periodic comes from period, which is the length of time required for a wave to complete one cycle.', 'Periodic phenomena include:\\n\\nNoise phenomena tend to relate to things that happened a long time ago.', 'The signal from these events bounce around the Universe until it seems to come from everywhere and varies little in intensity.', 'In this way, it is \"noise\", the background signal that pervades every instrument used for astronomy.', 'The most common example of noise is static seen on analogue televisions.', 'The principal astronomical example is: cosmic background radiation.', 'Telescopes are the main tool of observing.', 'They take all the light in a big area and put in into a small area.', 'This is like making your eyes very big and powerful.', 'Astronomers use telescopes to look at things that are far away and dim.', 'Telescopes make objects look bigger, closer, brighter.', 'Spectrometers study the different wavelengths of light.', 'This shows what something is made of.', 'Many telescopes are in satellites.', 'They are space observatories.', 'The Earth’s atmosphere blocks some parts of the electromagnetic spectrum, but special telescopes above the atmosphere can detect that radiation.', 'Radio astronomy uses radio telescopes.', 'Aperture synthesis combines smaller telescopes to create a phased array, which works like a telescope as big as the distance between the smaller telescopes.', 'There are way astronomers can get better pictures of the heavens.', 'Light from a distant source reaches a sensor and gets measured, normally by a human eye or a camera.', 'For very dim sources, there may not be enough light particles coming from the source for it to be seen.', 'One technique that astronomers have for making it visible is using integration (which is like longer exposures in photography).', 'Astronomical sources do not move much: only the rotation and movement of the Earth causes them to move across the heavens.', 'As light particles reach the camera over time, they hit the same place making it brighter and more visible than the background, until it can be seen.', 'Telescopes at most observatories (and satellite instruments) can normally track a source as it moves across the heavens, making the star appear still to the telescope and allowing longer exposures.', 'Also, images can be taken on different nights so exposures span hours, days or even months.', 'In the digital era, digitised pictures of the sky can be added together by computer, which overlays the images after correcting for movement.', 'Adaptive optics [ change | change source ]\\n\\nAdaptive optics means changing the shape of the mirror or lens while looking at something, to see it better.', 'Data analysis [ change | change source ]\\n\\nData analysis is the process of getting more information out of an astronomical observation than by simply looking at it.', 'The observation is first stored as data.', 'This data then has various techniques used to analyse it.', 'Fourier analysis [ change | change source ]\\n\\nFourier analysis in mathematics can show if an observation (over a length of time) is changing periodically (changes like a wave).', 'If so, it can extract the frequencies and the type of wave pattern, and find many things including new planets.', 'Subfields of astronomy [ change | change source ]\\n\\nPulsars pulse regularly in radio waves.', 'These turned out to be similar to some (but not all) of a type of bright source in X-rays called a Low-mass X-ray binary.', 'It turned out that all pulsars and some LMXBs are neutron stars and that the differences were due to the environment in which the neutron star was found.', 'Those LMXBs that were not neutron stars turned out to be black holes.', 'This section attempts to provide an overview of the important fields of astronomy.', 'Solar astronomy [ change | change source ]\\n\\nSee the main article: Sun\\n\\nSolar astronomy is the study of the Sun.', 'The Sun is the closest star to Earth at around 92 million (92,000,000) miles away.', '[6] It is the easiest to observe in detail.', 'Observing the Sun can help us understand how other stars work and are formed.', 'Changes in the Sun can affect the weather and climate on Earth.', 'A stream of charged particles called the Solar wind is constantly sent off from the Sun.', \"The Solar wind hitting the Earth's magnetic field causes the northern lights.\", '[7]\\n\\nStellar Astronomy\\n\\nStellar Astronomy, sometimes generally stellar astrophysics is the scientific study of stars, their formation, evolution and fate (stellar evolution).', \"In the most basic sense,Stellar Astronomy attempts to answer the questions to the universe's most common phenomena — stars.\", 'Heavily relating with Galactic and Planetary Astronomy.', 'Messier 041,a star system in the constellation Canis Major\\n\\nPlanetary astronomy [ change | change source ]\\n\\nPlanetary astronomy is the study of planets, moons, dwarf planets, comets and asteroids as well as other small objects that orbit stars.', 'The planets of our own Solar System have been studied in depth by many visiting spacecraft such as Cassini-Huygens (Saturn) and the Voyager 1 and 2.', 'Galactic astronomy [ change | change source ]\\n\\nGalactic astronomy is the study of distant galaxies.', 'Studying distant galaxies is a good way of learning about our own galaxy, as the gases and stars in our own galaxy make it difficult to observe.', 'Galactic astronomers try to understand the structure of galaxies and how they are formed by using different types of telescopes and computer simulations.', 'Gravitational wave astronomy [ change | change source ]\\n\\nGravitational wave astronomy is the study of the Universe in the gravitational wave spectrum.', 'So far, all astronomy that has been done has used the electromagnetic spectrum.', 'Gravitational waves are ripples in spacetime emitted by very dense objects changing shape, which include white dwarves, neutron stars and black holes.', 'Because no one has been able to detect gravitational waves directly, the impact of gravitational wave astronomy has been limited.', 'Unsolved problems [ change | change source ]\\n\\nGreat discoveries also produce unsolved problems.', 'This is just a short-list:\\n\\nDark matter and dark energy: what are they?', 'Ultimate fate of the Universe?', 'What will it be?', 'Why is lithium 4 times less than predicted?', 'Origin of supermassive black holes.', 'The source of ultra-high energy cosmic rays.', 'The existence of life elsewhere.', 'Related pages [ change | change source ]']\n"
          ]
        }
      ]
    },
    {
      "cell_type": "code",
      "source": [
        "#removing the punctuation\n",
        "remove_punct_dict=dict( (ord(punct),None) for punct in string.punctuation)\n",
        "print(string.punctuation)\n",
        "print(remove_punct_dict)"
      ],
      "metadata": {
        "colab": {
          "base_uri": "https://localhost:8080/"
        },
        "id": "to4GnfTPzkf-",
        "outputId": "ea98e4f5-1e44-48ae-8ccf-20065205fa43"
      },
      "execution_count": 9,
      "outputs": [
        {
          "output_type": "stream",
          "name": "stdout",
          "text": [
            "!\"#$%&'()*+,-./:;<=>?@[\\]^_`{|}~\n",
            "{33: None, 34: None, 35: None, 36: None, 37: None, 38: None, 39: None, 40: None, 41: None, 42: None, 43: None, 44: None, 45: None, 46: None, 47: None, 58: None, 59: None, 60: None, 61: None, 62: None, 63: None, 64: None, 91: None, 92: None, 93: None, 94: None, 95: None, 96: None, 123: None, 124: None, 125: None, 126: None}\n"
          ]
        }
      ]
    },
    {
      "cell_type": "code",
      "source": [
        "#returning lower case words\n",
        "def LemNormalize(text):\n",
        "  return nltk.word_tokenize(text.lower().translate(remove_punct_dict))\n",
        "print(LemNormalize(text))"
      ],
      "metadata": {
        "colab": {
          "base_uri": "https://localhost:8080/"
        },
        "id": "800W7PaRzt84",
        "outputId": "f6450db5-ef32-41cd-d34a-35c2837cdd6c"
      },
      "execution_count": 10,
      "outputs": [
        {
          "output_type": "stream",
          "name": "stdout",
          "text": [
            "['astronomy', 'is', 'the', 'scientific', 'study', 'of', 'celestial', 'bodies', 'stars', 'galaxies', 'planets', 'moons', 'asteroids', 'comets', 'and', 'nebulae', 'are', 'studied', 'as', 'are', 'supernovae', 'explosions', 'gamma', 'ray', 'bursts', 'and', 'cosmic', 'microwave', 'background', 'radiation', 'astronomy', 'includes', 'the', 'development', 'physics', 'chemistry', 'meteorology', 'and', 'movement', 'of', 'celestial', 'bodies', 'the', 'big', 'questions', 'are', 'the', 'structure', 'and', 'development', 'of', 'the', 'universe', 'astronomy', 'is', 'one', 'of', 'the', 'oldest', 'sciences', 'the', 'patterns', 'in', 'the', 'night', 'sky', 'were', 'called', 'constellations', 'by', 'the', 'arabs', 'they', 'used', 'the', 'positions', 'of', 'the', 'stars', 'to', 'navigate', 'and', 'to', 'find', 'when', 'was', 'the', 'best', 'time', 'to', 'plant', 'crops', 'astrophysics', 'is', 'an', 'important', 'part', 'of', 'astronomy', 'a', 'related', 'subject', 'cosmology', 'is', 'concerned', 'with', 'studying', 'the', 'universe', 'as', 'a', 'whole1', 'and', 'the', 'way', 'the', 'universe', 'changed', 'over', 'time', 'astronomy', 'is', 'not', 'the', 'same', 'as', 'astrology', 'a', 'belief', 'that', 'the', 'motion', 'of', 'the', 'stars', 'and', 'the', 'planets', 'may', 'affect', 'human', 'lives', 'there', 'are', 'two', 'main', 'types', 'of', 'astronomy', 'observational', 'and', 'theoretical', 'astronomy', 'observational', 'astronomy', 'uses', 'telescopes', 'and', 'cameras', 'to', 'observe', 'or', 'look', 'at', 'stars', 'galaxies', 'and', 'other', 'astronomical', 'objects', 'theoretical', 'astronomy', 'explains', 'what', 'we', 'see', 'it', 'predicts', 'what', 'might', 'happen', 'observations', 'show', 'whether', 'the', 'predictions', 'work', 'the', 'main', 'work', 'of', 'astronomy', 'is', 'to', 'explain', 'puzzling', 'features', 'of', 'the', 'universe', 'for', 'many', 'years', 'the', 'most', 'important', 'issue', 'was', 'the', 'motions', 'of', 'planets', 'many', 'other', 'topics', 'are', 'now', 'studied', 'daytime', 'astronomy', 'is', 'possible', 'first', 'theres', 'the', 'sun', 'but', 'observing', 'directly', 'is', 'dangerous', 'it', 'is', 'too', 'bright', 'and', 'can', 'burn', 'your', 'eyes', 'and', 'can', 'cause', 'permanent', 'blindness', 'to', 'look', 'at', 'the', 'sun', 'you', 'need', 'proper', 'shields', 'and', 'equipment', 'some', 'other', 'individual', 'bright', 'stars', 'and', 'planets', 'can', 'be', 'seen', 'during', 'daylight', 'hours', 'through', 'a', 'telescope', 'or', 'a', 'powerful', 'pair', 'of', 'binoculars', 'history', 'of', 'astronomy', 'change', 'change', 'source', 'ancient', 'history', 'change', 'change', 'source', 'early', 'astronomers', 'used', 'only', 'their', 'eyes', 'to', 'look', 'at', 'the', 'stars', 'they', 'made', 'maps', 'of', 'the', 'constellations', 'and', 'stars', 'for', 'religious', 'reasons', 'and', 'calendars', 'to', 'work', 'out', 'the', 'time', 'of', 'year', 'early', 'civilisations', 'such', 'as', 'the', 'maya', 'people', 'and', 'the', 'ancient', 'egyptians', 'built', 'simple', 'observatories', 'and', 'drew', 'maps', 'of', 'the', 'stars', 'positions', 'they', 'also', 'began', 'to', 'think', 'about', 'the', 'place', 'of', 'earth', 'in', 'the', 'universe', 'for', 'a', 'long', 'time', 'people', 'thought', 'earth', 'was', 'the', 'center', 'of', 'the', 'universe', 'and', 'that', 'the', 'planets', 'the', 'stars', 'and', 'the', 'sun', 'went', 'around', 'it', 'this', 'is', 'known', 'as', 'geocentrism', 'astronomy', 'is', 'from', 'the', 'greek', 'astron', 'ἄστρον', 'meaning', 'star', 'and', 'nomos', 'nόμος', 'meaning', 'law', 'ancient', 'greeks', 'tried', 'to', 'explain', 'the', 'motions', 'of', 'the', 'sun', 'and', 'stars', 'by', 'taking', 'measurements2', 'a', 'mathematician', 'named', 'eratosthenes', 'was', 'the', 'first', 'who', 'measured', 'the', 'size', 'of', 'the', 'earth', 'and', 'proved', 'that', 'the', 'earth', 'is', 'a', 'sphere', 'a', 'theory', 'by', 'another', 'mathematician', 'named', 'aristarchus', 'was', 'that', 'the', 'sun', 'is', 'the', 'center', 'and', 'the', 'earth', 'is', 'moving', 'around', 'it', 'this', 'is', 'known', 'as', 'heliocentrism', 'only', 'a', 'few', 'people', 'thought', 'it', 'was', 'right', 'the', 'rest', 'continued', 'to', 'believe', 'in', 'the', 'geocentric', 'model', 'most', 'of', 'the', 'names', 'of', 'constellations', 'and', 'stars', 'come', 'from', 'greeks', 'of', 'that', 'time3', 'arabic', 'astronomers', 'made', 'many', 'advancements', 'during', 'the', 'middle', 'ages', 'including', 'improved', 'star', 'maps', 'and', 'ways', 'to', 'estimate', 'the', 'size', 'of', 'the', 'earth4', 'they', 'also', 'learned', 'from', 'the', 'ancients', 'by', 'translating', 'greek', 'books', 'into', 'arabic', 'renaissance', 'to', 'modern', 'era', 'change', 'change', 'source', 'drawings', 'of', 'the', 'moon', 'by', 'galileo', 'his', 'drawings', 'were', 'more', 'detailed', 'than', 'anyone', 'before', 'him', 'because', 'he', 'used', 'a', 'telescope', 'to', 'look', 'at', 'the', 'moon', 'during', 'the', 'renaissance', 'a', 'priest', 'named', 'nicolaus', 'copernicus', 'thought', 'from', 'looking', 'at', 'the', 'way', 'the', 'planets', 'moved', 'that', 'the', 'earth', 'was', 'not', 'the', 'center', 'of', 'everything', 'based', 'on', 'previous', 'works', 'he', 'said', 'that', 'the', 'earth', 'was', 'a', 'planet', 'and', 'all', 'the', 'planets', 'moved', 'around', 'the', 'sun', 'this', 'brought', 'back', 'the', 'old', 'idea', 'of', 'heliocentrism', 'galileo', 'galilei', 'built', 'his', 'own', 'telescopes', 'and', 'used', 'them', 'to', 'look', 'more', 'closely', 'at', 'the', 'stars', 'and', 'planets', 'for', 'the', 'first', 'time', 'he', 'agreed', 'with', 'copernicus', 'the', 'catholic', 'church', 'thought', 'galileo', 'was', 'wrong', 'he', 'spent', 'the', 'rest', 'of', 'his', 'life', 'under', 'house', 'arrest5', 'heliocentric', 'ideas', 'were', 'soon', 'improved', 'by', 'johannes', 'kepler', 'and', 'isaac', 'newton', 'who', 'invented', 'the', 'theory', 'of', 'gravity', 'after', 'galileo', 'people', 'made', 'better', 'telescopes', 'and', 'used', 'them', 'to', 'see', 'farther', 'objects', 'such', 'as', 'the', 'planets', 'uranus', 'and', 'neptune', 'they', 'also', 'saw', 'how', 'stars', 'were', 'similar', 'to', 'our', 'sun', 'but', 'in', 'a', 'range', 'of', 'colours', 'and', 'sizes', 'they', 'also', 'saw', 'thousands', 'of', 'other', 'faraway', 'objects', 'such', 'as', 'galaxies', 'and', 'nebulae', 'modern', 'era', 'change', 'change', 'source', 'the', '20th', 'century', 'after', '1920', 'saw', 'important', 'changes', 'in', 'astronomy', 'in', 'the', 'early', '1920s', 'it', 'began', 'to', 'be', 'accepted', 'that', 'the', 'galaxy', 'in', 'which', 'we', 'live', 'the', 'milky', 'way', 'is', 'not', 'the', 'only', 'galaxy', 'the', 'existence', 'of', 'other', 'galaxies', 'was', 'settled', 'by', 'edwin', 'hubble', 'who', 'identified', 'the', 'andromeda', 'nebula', 'as', 'a', 'different', 'galaxy', 'it', 'was', 'also', 'hubble', 'who', 'proved', 'that', 'the', 'universe', 'was', 'expanding', 'there', 'were', 'many', 'other', 'galaxies', 'at', 'large', 'distances', 'and', 'they', 'are', 'receding', 'moving', 'away', 'from', 'our', 'galaxy', 'that', 'was', 'completely', 'unexpected', 'in', '1931', 'karl', 'jansky', 'discovered', 'radio', 'emission', 'from', 'outside', 'the', 'earth', 'when', 'trying', 'to', 'isolate', 'a', 'source', 'of', 'noise', 'in', 'radio', 'communications', 'marking', 'the', 'birth', 'of', 'radio', 'astronomy', 'and', 'the', 'first', 'attempts', 'at', 'using', 'another', 'part', 'of', 'the', 'electromagnetic', 'spectrum', 'to', 'observe', 'the', 'sky', 'those', 'parts', 'of', 'the', 'electromagnetic', 'spectrum', 'that', 'the', 'atmosphere', 'did', 'not', 'block', 'were', 'now', 'opened', 'up', 'to', 'astronomy', 'allowing', 'more', 'discoveries', 'to', 'be', 'made', 'the', 'opening', 'of', 'this', 'new', 'window', 'on', 'the', 'universe', 'saw', 'the', 'discovery', 'of', 'entirely', 'new', 'things', 'for', 'example', 'pulsars', 'which', 'sent', 'regular', 'pulses', 'of', 'radio', 'waves', 'out', 'into', 'space', 'the', 'waves', 'were', 'first', 'thought', 'to', 'be', 'alien', 'in', 'origin', 'because', 'the', 'pulses', 'were', 'so', 'regular', 'that', 'so', 'it', 'was', 'thought', 'it', 'implied', 'an', 'artificial', 'source', 'the', 'period', 'after', 'world', 'war', 'ii', 'saw', 'more', 'observatories', 'large', 'and', 'accurate', 'telescopes', 'were', 'built', 'and', 'operated', 'at', 'good', 'observing', 'sites', 'usually', 'by', 'governments', 'for', 'example', 'bernard', 'lovell', 'began', 'radio', 'astronomy', 'at', 'jodrell', 'bank', 'using', 'leftover', 'military', 'radar', 'equipment', 'by', '1957', 'the', 'site', 'had', 'the', 'largest', 'steerable', 'radio', 'telescope', 'in', 'the', 'world', 'similarly', 'the', 'end', 'of', 'the', '1960s', 'saw', 'the', 'start', 'of', 'the', 'building', 'of', 'dedicated', 'observatories', 'at', 'mauna', 'kea', 'in', 'hawaii', 'a', 'good', 'site', 'for', 'visible', 'and', 'infrared', 'telescopes', 'thanks', 'to', 'its', 'high', 'altitude', 'and', 'clear', 'skies', 'the', 'next', 'great', 'revolution', 'in', 'astronomy', 'was', 'thanks', 'to', 'the', 'birth', 'of', 'rocketry', 'this', 'allowed', 'telescopes', 'to', 'be', 'placed', 'in', 'space', 'on', 'satellites', 'space', 'telescopes', 'gave', 'access', 'for', 'the', 'first', 'time', 'in', 'history', 'to', 'the', 'entire', 'electromagnetic', 'spectrum', 'including', 'rays', 'that', 'had', 'been', 'blocked', 'by', 'the', 'atmosphere', 'the', 'xrays', 'gamma', 'rays', 'ultraviolet', 'light', 'and', 'parts', 'of', 'the', 'infrared', 'spectrum', 'were', 'all', 'opened', 'to', 'astronomy', 'as', 'observing', 'telescopes', 'were', 'launched', 'as', 'with', 'other', 'parts', 'of', 'the', 'spectrum', 'new', 'discoveries', 'were', 'made', 'from', '1970s', 'satellites', 'were', 'launched', 'to', 'be', 'replaced', 'with', 'more', 'accurate', 'and', 'better', 'satellites', 'causing', 'the', 'sky', 'to', 'be', 'mapped', 'in', 'nearly', 'all', 'parts', 'of', 'the', 'electromagnetic', 'spectrum', 'discoveries', 'broadly', 'come', 'in', 'two', 'types', 'bodies', 'and', 'phenomena', 'bodies', 'are', 'things', 'in', 'the', 'universe', 'whether', 'it', 'is', 'a', 'planet', 'like', 'our', 'earth', 'or', 'a', 'galaxy', 'like', 'our', 'milky', 'way', 'phenomena', 'are', 'events', 'and', 'happenings', 'in', 'the', 'universe', 'for', 'convenience', 'this', 'section', 'has', 'been', 'divided', 'by', 'where', 'these', 'astronomical', 'bodies', 'may', 'be', 'found', 'those', 'found', 'around', 'stars', 'are', 'solar', 'bodies', 'those', 'inside', 'galaxies', 'are', 'galactic', 'bodies', 'and', 'everything', 'else', 'larger', 'are', 'cosmic', 'bodies', 'diffuse', 'objects', 'nebulas', 'clusters', 'compact', 'stars', 'burst', 'events', 'are', 'those', 'where', 'there', 'is', 'a', 'sudden', 'change', 'in', 'the', 'heavens', 'that', 'disappears', 'quickly', 'these', 'are', 'called', 'bursts', 'because', 'they', 'are', 'normally', 'associated', 'with', 'large', 'explosions', 'producing', 'a', 'burst', 'of', 'energy', 'they', 'include', 'periodic', 'events', 'are', 'those', 'that', 'happen', 'regularly', 'in', 'a', 'repetitive', 'way', 'the', 'name', 'periodic', 'comes', 'from', 'period', 'which', 'is', 'the', 'length', 'of', 'time', 'required', 'for', 'a', 'wave', 'to', 'complete', 'one', 'cycle', 'periodic', 'phenomena', 'include', 'noise', 'phenomena', 'tend', 'to', 'relate', 'to', 'things', 'that', 'happened', 'a', 'long', 'time', 'ago', 'the', 'signal', 'from', 'these', 'events', 'bounce', 'around', 'the', 'universe', 'until', 'it', 'seems', 'to', 'come', 'from', 'everywhere', 'and', 'varies', 'little', 'in', 'intensity', 'in', 'this', 'way', 'it', 'is', 'noise', 'the', 'background', 'signal', 'that', 'pervades', 'every', 'instrument', 'used', 'for', 'astronomy', 'the', 'most', 'common', 'example', 'of', 'noise', 'is', 'static', 'seen', 'on', 'analogue', 'televisions', 'the', 'principal', 'astronomical', 'example', 'is', 'cosmic', 'background', 'radiation', 'telescopes', 'are', 'the', 'main', 'tool', 'of', 'observing', 'they', 'take', 'all', 'the', 'light', 'in', 'a', 'big', 'area', 'and', 'put', 'in', 'into', 'a', 'small', 'area', 'this', 'is', 'like', 'making', 'your', 'eyes', 'very', 'big', 'and', 'powerful', 'astronomers', 'use', 'telescopes', 'to', 'look', 'at', 'things', 'that', 'are', 'far', 'away', 'and', 'dim', 'telescopes', 'make', 'objects', 'look', 'bigger', 'closer', 'brighter', 'spectrometers', 'study', 'the', 'different', 'wavelengths', 'of', 'light', 'this', 'shows', 'what', 'something', 'is', 'made', 'of', 'many', 'telescopes', 'are', 'in', 'satellites', 'they', 'are', 'space', 'observatories', 'the', 'earth', '’', 's', 'atmosphere', 'blocks', 'some', 'parts', 'of', 'the', 'electromagnetic', 'spectrum', 'but', 'special', 'telescopes', 'above', 'the', 'atmosphere', 'can', 'detect', 'that', 'radiation', 'radio', 'astronomy', 'uses', 'radio', 'telescopes', 'aperture', 'synthesis', 'combines', 'smaller', 'telescopes', 'to', 'create', 'a', 'phased', 'array', 'which', 'works', 'like', 'a', 'telescope', 'as', 'big', 'as', 'the', 'distance', 'between', 'the', 'smaller', 'telescopes', 'there', 'are', 'way', 'astronomers', 'can', 'get', 'better', 'pictures', 'of', 'the', 'heavens', 'light', 'from', 'a', 'distant', 'source', 'reaches', 'a', 'sensor', 'and', 'gets', 'measured', 'normally', 'by', 'a', 'human', 'eye', 'or', 'a', 'camera', 'for', 'very', 'dim', 'sources', 'there', 'may', 'not', 'be', 'enough', 'light', 'particles', 'coming', 'from', 'the', 'source', 'for', 'it', 'to', 'be', 'seen', 'one', 'technique', 'that', 'astronomers', 'have', 'for', 'making', 'it', 'visible', 'is', 'using', 'integration', 'which', 'is', 'like', 'longer', 'exposures', 'in', 'photography', 'astronomical', 'sources', 'do', 'not', 'move', 'much', 'only', 'the', 'rotation', 'and', 'movement', 'of', 'the', 'earth', 'causes', 'them', 'to', 'move', 'across', 'the', 'heavens', 'as', 'light', 'particles', 'reach', 'the', 'camera', 'over', 'time', 'they', 'hit', 'the', 'same', 'place', 'making', 'it', 'brighter', 'and', 'more', 'visible', 'than', 'the', 'background', 'until', 'it', 'can', 'be', 'seen', 'telescopes', 'at', 'most', 'observatories', 'and', 'satellite', 'instruments', 'can', 'normally', 'track', 'a', 'source', 'as', 'it', 'moves', 'across', 'the', 'heavens', 'making', 'the', 'star', 'appear', 'still', 'to', 'the', 'telescope', 'and', 'allowing', 'longer', 'exposures', 'also', 'images', 'can', 'be', 'taken', 'on', 'different', 'nights', 'so', 'exposures', 'span', 'hours', 'days', 'or', 'even', 'months', 'in', 'the', 'digital', 'era', 'digitised', 'pictures', 'of', 'the', 'sky', 'can', 'be', 'added', 'together', 'by', 'computer', 'which', 'overlays', 'the', 'images', 'after', 'correcting', 'for', 'movement', 'adaptive', 'optics', 'change', 'change', 'source', 'adaptive', 'optics', 'means', 'changing', 'the', 'shape', 'of', 'the', 'mirror', 'or', 'lens', 'while', 'looking', 'at', 'something', 'to', 'see', 'it', 'better', 'data', 'analysis', 'change', 'change', 'source', 'data', 'analysis', 'is', 'the', 'process', 'of', 'getting', 'more', 'information', 'out', 'of', 'an', 'astronomical', 'observation', 'than', 'by', 'simply', 'looking', 'at', 'it', 'the', 'observation', 'is', 'first', 'stored', 'as', 'data', 'this', 'data', 'then', 'has', 'various', 'techniques', 'used', 'to', 'analyse', 'it', 'fourier', 'analysis', 'change', 'change', 'source', 'fourier', 'analysis', 'in', 'mathematics', 'can', 'show', 'if', 'an', 'observation', 'over', 'a', 'length', 'of', 'time', 'is', 'changing', 'periodically', 'changes', 'like', 'a', 'wave', 'if', 'so', 'it', 'can', 'extract', 'the', 'frequencies', 'and', 'the', 'type', 'of', 'wave', 'pattern', 'and', 'find', 'many', 'things', 'including', 'new', 'planets', 'subfields', 'of', 'astronomy', 'change', 'change', 'source', 'pulsars', 'pulse', 'regularly', 'in', 'radio', 'waves', 'these', 'turned', 'out', 'to', 'be', 'similar', 'to', 'some', 'but', 'not', 'all', 'of', 'a', 'type', 'of', 'bright', 'source', 'in', 'xrays', 'called', 'a', 'lowmass', 'xray', 'binary', 'it', 'turned', 'out', 'that', 'all', 'pulsars', 'and', 'some', 'lmxbs', 'are', 'neutron', 'stars', 'and', 'that', 'the', 'differences', 'were', 'due', 'to', 'the', 'environment', 'in', 'which', 'the', 'neutron', 'star', 'was', 'found', 'those', 'lmxbs', 'that', 'were', 'not', 'neutron', 'stars', 'turned', 'out', 'to', 'be', 'black', 'holes', 'this', 'section', 'attempts', 'to', 'provide', 'an', 'overview', 'of', 'the', 'important', 'fields', 'of', 'astronomy', 'solar', 'astronomy', 'change', 'change', 'source', 'see', 'the', 'main', 'article', 'sun', 'solar', 'astronomy', 'is', 'the', 'study', 'of', 'the', 'sun', 'the', 'sun', 'is', 'the', 'closest', 'star', 'to', 'earth', 'at', 'around', '92', 'million', '92000000', 'miles', 'away6', 'it', 'is', 'the', 'easiest', 'to', 'observe', 'in', 'detail', 'observing', 'the', 'sun', 'can', 'help', 'us', 'understand', 'how', 'other', 'stars', 'work', 'and', 'are', 'formed', 'changes', 'in', 'the', 'sun', 'can', 'affect', 'the', 'weather', 'and', 'climate', 'on', 'earth', 'a', 'stream', 'of', 'charged', 'particles', 'called', 'the', 'solar', 'wind', 'is', 'constantly', 'sent', 'off', 'from', 'the', 'sun', 'the', 'solar', 'wind', 'hitting', 'the', 'earths', 'magnetic', 'field', 'causes', 'the', 'northern', 'lights7', 'stellar', 'astronomy', 'stellar', 'astronomy', 'sometimes', 'generally', 'stellar', 'astrophysics', 'is', 'the', 'scientific', 'study', 'of', 'stars', 'their', 'formation', 'evolution', 'and', 'fate', 'stellar', 'evolution', 'in', 'the', 'most', 'basic', 'sensestellar', 'astronomy', 'attempts', 'to', 'answer', 'the', 'questions', 'to', 'the', 'universes', 'most', 'common', 'phenomena', '—', 'stars', 'heavily', 'relating', 'with', 'galactic', 'and', 'planetary', 'astronomy', 'messier', '041a', 'star', 'system', 'in', 'the', 'constellation', 'canis', 'major', 'planetary', 'astronomy', 'change', 'change', 'source', 'planetary', 'astronomy', 'is', 'the', 'study', 'of', 'planets', 'moons', 'dwarf', 'planets', 'comets', 'and', 'asteroids', 'as', 'well', 'as', 'other', 'small', 'objects', 'that', 'orbit', 'stars', 'the', 'planets', 'of', 'our', 'own', 'solar', 'system', 'have', 'been', 'studied', 'in', 'depth', 'by', 'many', 'visiting', 'spacecraft', 'such', 'as', 'cassinihuygens', 'saturn', 'and', 'the', 'voyager', '1', 'and', '2', 'galactic', 'astronomy', 'change', 'change', 'source', 'galactic', 'astronomy', 'is', 'the', 'study', 'of', 'distant', 'galaxies', 'studying', 'distant', 'galaxies', 'is', 'a', 'good', 'way', 'of', 'learning', 'about', 'our', 'own', 'galaxy', 'as', 'the', 'gases', 'and', 'stars', 'in', 'our', 'own', 'galaxy', 'make', 'it', 'difficult', 'to', 'observe', 'galactic', 'astronomers', 'try', 'to', 'understand', 'the', 'structure', 'of', 'galaxies', 'and', 'how', 'they', 'are', 'formed', 'by', 'using', 'different', 'types', 'of', 'telescopes', 'and', 'computer', 'simulations', 'gravitational', 'wave', 'astronomy', 'change', 'change', 'source', 'gravitational', 'wave', 'astronomy', 'is', 'the', 'study', 'of', 'the', 'universe', 'in', 'the', 'gravitational', 'wave', 'spectrum', 'so', 'far', 'all', 'astronomy', 'that', 'has', 'been', 'done', 'has', 'used', 'the', 'electromagnetic', 'spectrum', 'gravitational', 'waves', 'are', 'ripples', 'in', 'spacetime', 'emitted', 'by', 'very', 'dense', 'objects', 'changing', 'shape', 'which', 'include', 'white', 'dwarves', 'neutron', 'stars', 'and', 'black', 'holes', 'because', 'no', 'one', 'has', 'been', 'able', 'to', 'detect', 'gravitational', 'waves', 'directly', 'the', 'impact', 'of', 'gravitational', 'wave', 'astronomy', 'has', 'been', 'limited', 'unsolved', 'problems', 'change', 'change', 'source', 'great', 'discoveries', 'also', 'produce', 'unsolved', 'problems', 'this', 'is', 'just', 'a', 'shortlist', 'dark', 'matter', 'and', 'dark', 'energy', 'what', 'are', 'they', 'ultimate', 'fate', 'of', 'the', 'universe', 'what', 'will', 'it', 'be', 'why', 'is', 'lithium', '4', 'times', 'less', 'than', 'predicted', 'origin', 'of', 'supermassive', 'black', 'holes', 'the', 'source', 'of', 'ultrahigh', 'energy', 'cosmic', 'rays', 'the', 'existence', 'of', 'life', 'elsewhere', 'related', 'pages', 'change', 'change', 'source']\n"
          ]
        }
      ]
    },
    {
      "cell_type": "code",
      "source": [
        "#greetings\n",
        "greeting_input=[\"hi\",\"hello\",\"hey\",\"hola\"]\n",
        "greeting_response=[\"howdy\",\"hey there\",\"hi\",\"hello :)\"]\n",
        "def greeting(sentence):\n",
        "  for word in sentence.split():\n",
        "    if word.lower() in greeting_input:\n",
        "      return random.choice(greeting_response)"
      ],
      "metadata": {
        "id": "B3SKv0awz1za"
      },
      "execution_count": 11,
      "outputs": []
    },
    {
      "cell_type": "code",
      "source": [
        "def response(user_response):\n",
        " #user response and robo responce\n",
        "  #user_response=\"WHat is chronic disease\"\n",
        "  user_response=user_response.lower()\n",
        "  #print(user_response)\n",
        "  #robo response\n",
        "  robo_response=''\n",
        "  sent_tokens.append(user_response)\n",
        "  #print(sent_tokens)\n",
        "  tfidfvec=TfidfVectorizer(tokenizer=LemNormalize , stop_words='english')\n",
        "  tfidf=tfidfvec.fit_transform(sent_tokens)\n",
        "  #print(tfidf)\n",
        "  #get similarity score\n",
        "  val=cosine_similarity(tfidf[-1],tfidf)\n",
        "  #print(val)\n",
        "  idx=val.argsort()[0][-2]\n",
        "  flat=val.flatten()\n",
        "  flat.sort()\n",
        "  score=flat[-2]\n",
        "  #print(score)\n",
        "  if score==0:\n",
        "    robo_response=robo_response+\"sorry,i dont understand\"\n",
        "  else:\n",
        "    robo_response=robo_response+sent_tokens[idx]\n",
        "\n",
        "  sent_tokens.remove(user_response)\n",
        "  return robo_response"
      ],
      "metadata": {
        "id": "fgS3wzBCz-1U"
      },
      "execution_count": 12,
      "outputs": []
    },
    {
      "cell_type": "code",
      "source": [
        "greeting_input=[\"hi\",\"hello\",\"hey\",\"hola\"]\n",
        "greeting_response=[\"howdy\",\"hey there\",\"hi\",\"hello :)\"]\n",
        "def greeting(sentence):\n",
        "  for word in sentence.split():\n",
        "    if word.lower() in greeting_input:\n",
        "      return random.choice(greeting_response)\n",
        "flag=True\n",
        "print(\"Hello I am Starlight!!! I know stuff about astronomy, try asking :) (type bye to exit)\")\n",
        "while(flag==True):\n",
        "  user_response=input(\"User:\")\n",
        "  #user_response=user_response.lower()\n",
        "  if(user_response!='bye'):\n",
        "    if(user_response=='thanks' or user_response=='thank you'):\n",
        "      flag=False\n",
        "      print(\"Starlight: anytime :)\")\n",
        "    else:\n",
        "       if( greeting(user_response) != None):\n",
        "         print(\"Starlight: \"+ greeting(user_response))\n",
        "       else:\n",
        "         print(\"Starlight:\"+response(user_response))\n",
        "  else:\n",
        "    flag=False\n",
        "    print(\"Starlight: see you later :)\")"
      ],
      "metadata": {
        "colab": {
          "base_uri": "https://localhost:8080/"
        },
        "id": "yiFe0txB0MlO",
        "outputId": "0f5befe7-8e45-4d87-fbec-533d75bf4309"
      },
      "execution_count": 17,
      "outputs": [
        {
          "output_type": "stream",
          "name": "stdout",
          "text": [
            "Hello I am Starlight!!! I know stuff about astronomy, try asking :) (type bye to exit)\n",
            "User:hello\n",
            "Starlight: hi\n",
            "User:what is atronomy?\n",
            "Starlight:sorry,i dont understand\n",
            "User:what is astronomy\n",
            "Starlight:There are two main types of astronomy, observational and theoretical astronomy.\n",
            "User:what is theoretical astronomy\n",
            "Starlight:Theoretical astronomy explains what we see.\n",
            "User:and observational\n",
            "Starlight:There are two main types of astronomy, observational and theoretical astronomy.\n",
            "User:what is observational astronomy\n",
            "Starlight:There are two main types of astronomy, observational and theoretical astronomy.\n",
            "User:what is solar astronomy\n",
            "Starlight:Solar astronomy [ change | change source ]\n",
            "\n",
            "See the main article: Sun\n",
            "\n",
            "Solar astronomy is the study of the Sun.\n",
            "User:bye\n",
            "Starlight: see you later :)\n"
          ]
        }
      ]
    }
  ]
}